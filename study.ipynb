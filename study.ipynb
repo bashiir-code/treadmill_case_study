{
 "cells": [
  {
   "cell_type": "code",
   "execution_count": 7,
   "id": "1249fb80",
   "metadata": {},
   "outputs": [
    {
     "name": "stdout",
     "output_type": "stream",
     "text": [
      "Path to dataset files: C:\\Users\\bashi\\.cache\\kagglehub\\datasets\\saurav9786\\cardiogoodfitness\\versions\\1\n"
     ]
    }
   ],
   "source": [
    "# load data\n",
    "\n",
    "import kagglehub\n",
    "\n",
    "# Download latest version\n",
    "path = kagglehub.dataset_download(\"saurav9786/cardiogoodfitness\")\n",
    "\n",
    "print(\"Path to dataset files:\", path)"
   ]
  },
  {
   "cell_type": "code",
   "execution_count": 8,
   "id": "69564c94",
   "metadata": {},
   "outputs": [],
   "source": [
    "#import libraries\n",
    "import pandas as pd\n",
    "import numpy as np\n",
    "import matplotlib.pyplot as plt\n",
    "import seaborn as sns\n",
    "# Load the dataset\n",
    "cardio_data = pd.read_csv(path + \"/CardioGoodFitness.csv\")"
   ]
  },
  {
   "cell_type": "code",
   "execution_count": 9,
   "id": "b018b04f",
   "metadata": {},
   "outputs": [
    {
     "data": {
      "text/html": [
       "<div>\n",
       "<style scoped>\n",
       "    .dataframe tbody tr th:only-of-type {\n",
       "        vertical-align: middle;\n",
       "    }\n",
       "\n",
       "    .dataframe tbody tr th {\n",
       "        vertical-align: top;\n",
       "    }\n",
       "\n",
       "    .dataframe thead th {\n",
       "        text-align: right;\n",
       "    }\n",
       "</style>\n",
       "<table border=\"1\" class=\"dataframe\">\n",
       "  <thead>\n",
       "    <tr style=\"text-align: right;\">\n",
       "      <th></th>\n",
       "      <th>Product</th>\n",
       "      <th>Age</th>\n",
       "      <th>Gender</th>\n",
       "      <th>Education</th>\n",
       "      <th>MaritalStatus</th>\n",
       "      <th>Usage</th>\n",
       "      <th>Fitness</th>\n",
       "      <th>Income</th>\n",
       "      <th>Miles</th>\n",
       "    </tr>\n",
       "  </thead>\n",
       "  <tbody>\n",
       "    <tr>\n",
       "      <th>0</th>\n",
       "      <td>TM195</td>\n",
       "      <td>18</td>\n",
       "      <td>Male</td>\n",
       "      <td>14</td>\n",
       "      <td>Single</td>\n",
       "      <td>3</td>\n",
       "      <td>4</td>\n",
       "      <td>29562</td>\n",
       "      <td>112</td>\n",
       "    </tr>\n",
       "    <tr>\n",
       "      <th>1</th>\n",
       "      <td>TM195</td>\n",
       "      <td>19</td>\n",
       "      <td>Male</td>\n",
       "      <td>15</td>\n",
       "      <td>Single</td>\n",
       "      <td>2</td>\n",
       "      <td>3</td>\n",
       "      <td>31836</td>\n",
       "      <td>75</td>\n",
       "    </tr>\n",
       "    <tr>\n",
       "      <th>2</th>\n",
       "      <td>TM195</td>\n",
       "      <td>19</td>\n",
       "      <td>Female</td>\n",
       "      <td>14</td>\n",
       "      <td>Partnered</td>\n",
       "      <td>4</td>\n",
       "      <td>3</td>\n",
       "      <td>30699</td>\n",
       "      <td>66</td>\n",
       "    </tr>\n",
       "    <tr>\n",
       "      <th>3</th>\n",
       "      <td>TM195</td>\n",
       "      <td>19</td>\n",
       "      <td>Male</td>\n",
       "      <td>12</td>\n",
       "      <td>Single</td>\n",
       "      <td>3</td>\n",
       "      <td>3</td>\n",
       "      <td>32973</td>\n",
       "      <td>85</td>\n",
       "    </tr>\n",
       "    <tr>\n",
       "      <th>4</th>\n",
       "      <td>TM195</td>\n",
       "      <td>20</td>\n",
       "      <td>Male</td>\n",
       "      <td>13</td>\n",
       "      <td>Partnered</td>\n",
       "      <td>4</td>\n",
       "      <td>2</td>\n",
       "      <td>35247</td>\n",
       "      <td>47</td>\n",
       "    </tr>\n",
       "  </tbody>\n",
       "</table>\n",
       "</div>"
      ],
      "text/plain": [
       "  Product  Age  Gender  Education MaritalStatus  Usage  Fitness  Income  Miles\n",
       "0   TM195   18    Male         14        Single      3        4   29562    112\n",
       "1   TM195   19    Male         15        Single      2        3   31836     75\n",
       "2   TM195   19  Female         14     Partnered      4        3   30699     66\n",
       "3   TM195   19    Male         12        Single      3        3   32973     85\n",
       "4   TM195   20    Male         13     Partnered      4        2   35247     47"
      ]
     },
     "execution_count": 9,
     "metadata": {},
     "output_type": "execute_result"
    }
   ],
   "source": [
    "# Display the first 5 rows of the dataset\n",
    "cardio_data.head(5)\n"
   ]
  },
  {
   "cell_type": "code",
   "execution_count": 10,
   "id": "d04cf1f8",
   "metadata": {},
   "outputs": [
    {
     "name": "stdout",
     "output_type": "stream",
     "text": [
      "Shape of the dataset: (180, 9)\n",
      "<class 'pandas.core.frame.DataFrame'>\n",
      "RangeIndex: 180 entries, 0 to 179\n",
      "Data columns (total 9 columns):\n",
      " #   Column         Non-Null Count  Dtype \n",
      "---  ------         --------------  ----- \n",
      " 0   Product        180 non-null    object\n",
      " 1   Age            180 non-null    int64 \n",
      " 2   Gender         180 non-null    object\n",
      " 3   Education      180 non-null    int64 \n",
      " 4   MaritalStatus  180 non-null    object\n",
      " 5   Usage          180 non-null    int64 \n",
      " 6   Fitness        180 non-null    int64 \n",
      " 7   Income         180 non-null    int64 \n",
      " 8   Miles          180 non-null    int64 \n",
      "dtypes: int64(6), object(3)\n",
      "memory usage: 12.8+ KB\n",
      "Data types of each column:\n",
      " None\n"
     ]
    }
   ],
   "source": [
    "# how big is the dataset?\n",
    "print(\"Shape of the dataset:\", cardio_data.shape)\n",
    "# Display the data types of each column\n",
    "print(\"Data types of each column:\\n\", cardio_data.info())"
   ]
  },
  {
   "cell_type": "markdown",
   "id": "5fe4ffa8",
   "metadata": {},
   "source": [
    "# Summary of observations:\n",
    "\n",
    "- The dataset contains 180 rows and 9 columns.\n",
    "- All columns have complete data (no missing values).\n",
    "- There are both categorical (Product, Gender, MaritalStatus) and numerical columns (Age, Education, Usage, Fitness, Income, Miles).\n",
    "- Data types are appropriate for analysis: integers for numerical features and objects for categorical features.\n"
   ]
  },
  {
   "cell_type": "code",
   "execution_count": 11,
   "id": "90460c2c",
   "metadata": {},
   "outputs": [
    {
     "name": "stdout",
     "output_type": "stream",
     "text": [
      "Summary statistics of the dataset:\n",
      "        Product         Age Gender   Education MaritalStatus       Usage  \\\n",
      "count      180  180.000000    180  180.000000           180  180.000000   \n",
      "unique       3         NaN      2         NaN             2         NaN   \n",
      "top      TM195         NaN   Male         NaN     Partnered         NaN   \n",
      "freq        80         NaN    104         NaN           107         NaN   \n",
      "mean       NaN   28.788889    NaN   15.572222           NaN    3.455556   \n",
      "std        NaN    6.943498    NaN    1.617055           NaN    1.084797   \n",
      "min        NaN   18.000000    NaN   12.000000           NaN    2.000000   \n",
      "25%        NaN   24.000000    NaN   14.000000           NaN    3.000000   \n",
      "50%        NaN   26.000000    NaN   16.000000           NaN    3.000000   \n",
      "75%        NaN   33.000000    NaN   16.000000           NaN    4.000000   \n",
      "max        NaN   50.000000    NaN   21.000000           NaN    7.000000   \n",
      "\n",
      "           Fitness         Income       Miles  \n",
      "count   180.000000     180.000000  180.000000  \n",
      "unique         NaN            NaN         NaN  \n",
      "top            NaN            NaN         NaN  \n",
      "freq           NaN            NaN         NaN  \n",
      "mean      3.311111   53719.577778  103.194444  \n",
      "std       0.958869   16506.684226   51.863605  \n",
      "min       1.000000   29562.000000   21.000000  \n",
      "25%       3.000000   44058.750000   66.000000  \n",
      "50%       3.000000   50596.500000   94.000000  \n",
      "75%       4.000000   58668.000000  114.750000  \n",
      "max       5.000000  104581.000000  360.000000  \n"
     ]
    }
   ],
   "source": [
    "# Display the summary statistics of the dataset\n",
    "print(\"Summary statistics of the dataset:\\n\", cardio_data.describe(include='all'))"
   ]
  },
  {
   "cell_type": "markdown",
   "id": "93dbeb89",
   "metadata": {},
   "source": [
    "# From the summary statistics, we observe the following insights about the dataset:\n",
    "\n",
    "- There are three treadmill products, with TM195 being the most popular.\n",
    "- Customers' ages range from 18 to 50 years, with a mean age of about 29, which aligns with the typical driving age.\n",
    "- The customer base is predominantly male.\n",
    "- Most customers have a bachelor's degree, as indicated by the interquartile range that is 16 years of education.\n",
    "- About 65% of customers have a partner.\n",
    "- Customers typically use the treadmill 3-4 times per week.\n",
    "- Most customers rate their fitness as \"okay\" or \"good.\"\n",
    "- The majority of customers have an income between $45,000 and $60,000.\n",
    "- On average, customers expect to run or walk about 103 miles."
   ]
  }
 ],
 "metadata": {
  "kernelspec": {
   "display_name": "base",
   "language": "python",
   "name": "python3"
  },
  "language_info": {
   "codemirror_mode": {
    "name": "ipython",
    "version": 3
   },
   "file_extension": ".py",
   "mimetype": "text/x-python",
   "name": "python",
   "nbconvert_exporter": "python",
   "pygments_lexer": "ipython3",
   "version": "3.12.4"
  }
 },
 "nbformat": 4,
 "nbformat_minor": 5
}
